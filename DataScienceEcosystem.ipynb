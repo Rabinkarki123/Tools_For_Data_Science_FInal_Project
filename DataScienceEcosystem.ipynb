{
 "cells": [
  {
   "cell_type": "markdown",
   "id": "314f3e5f-b7d7-4674-8096-c63f92abe923",
   "metadata": {},
   "source": [
    "# Data Science Tools and Ecosystem\n",
    "\n",
    " \n",
    "\n"
   ]
  },
  {
   "cell_type": "markdown",
   "id": "75079f0d-bfa4-41d5-bfd8-d4a8e49a5a9e",
   "metadata": {
    "tags": []
   },
   "source": [
    "In this notebook, Data Science Tools and Ecosystem are summarized."
   ]
  },
  {
   "cell_type": "markdown",
   "id": "96534559-c6e8-4664-8437-e8ff9cad6b50",
   "metadata": {
    "tags": []
   },
   "source": [
    "__Objectives:__\n",
    "\n",
    "- List popular languages for Data Science.\n",
    "- Introduce common Data Science libraries.\n",
    "- Demonstrate the conversion of minutes to hours in Python.\n",
    "- Provide an overview of Data Science tools.\n",
    "- Explore arithmetic expression examples in Python.\n"
   ]
  },
  {
   "cell_type": "markdown",
   "id": "0f681ec7-01bf-47d8-b7ee-873c7ab179d7",
   "metadata": {},
   "source": [
    "Some of the popular languages that Data Scientists use are:\n",
    "\n",
    "1. Python\n",
    "2. R\n",
    "3. SQL\n",
    "4. Julia\n",
    "5. Scala \n",
    "\n"
   ]
  },
  {
   "cell_type": "markdown",
   "id": "97024ef4-23c9-46e6-bee4-33d8253f4f02",
   "metadata": {},
   "source": [
    "Some of the commonly used libraries used by Data Scientists include:\n",
    "\n",
    "1. NumPy\n",
    "2. pandas\n",
    "3. scikit-learn\n",
    "4. Matplotlib \n",
    "5. Seaborn \n",
    "6. Scipy \n",
    "7. BeautifulSoup\n",
    "8. Plotly\n",
    "9. Yfinance\n"
   ]
  },
  {
   "cell_type": "markdown",
   "id": "76c42e6f-8a48-4d8b-9734-9a1c45605825",
   "metadata": {},
   "source": [
    "| Data Science Tools       |\n",
    "|--------------------------|\n",
    "| Jupyter Notebook         |\n",
    "| Rstudio                  |\n",
    "| Visual Studio Code       |\n"
   ]
  },
  {
   "cell_type": "markdown",
   "id": "9ca90389-9ec9-4c4e-b93c-bc1d8f288ecf",
   "metadata": {},
   "source": [
    "### Examples of Evaluating Arithmetic Expressions in Python\n",
    "\n",
    "In this section, we'll explore a few examples of evaluating arithmetic expressions in Python.\n"
   ]
  },
  {
   "cell_type": "code",
   "execution_count": 1,
   "id": "929723f9-573d-42d0-b12b-59b2378ba83f",
   "metadata": {
    "tags": []
   },
   "outputs": [
    {
     "data": {
      "text/plain": [
       "17"
      ]
     },
     "execution_count": 1,
     "metadata": {},
     "output_type": "execute_result"
    }
   ],
   "source": [
    "# this line of code evaluate the arthmetic expression \n",
    "(3*4)+5"
   ]
  },
  {
   "cell_type": "code",
   "execution_count": 5,
   "id": "77241afc-3189-4bb5-ab1f-97e2330d131e",
   "metadata": {
    "tags": []
   },
   "outputs": [
    {
     "name": "stdout",
     "output_type": "stream",
     "text": [
      "3.3333333333333335\n"
     ]
    }
   ],
   "source": [
    "# The following lines of code converts the 200 minutes into hours \n",
    "min = 200\n",
    "hours  = min/60\n",
    "print(hours)\n"
   ]
  },
  {
   "cell_type": "markdown",
   "id": "c6841f08-5b0e-4f1d-99b0-ed9c72942585",
   "metadata": {},
   "source": [
    "## Author\n",
    "\n",
    "Rabin Karki\n"
   ]
  },
  {
   "cell_type": "code",
   "execution_count": null,
   "id": "e0d7b894-d669-495b-bb9c-c345a8d5cdff",
   "metadata": {},
   "outputs": [],
   "source": []
  }
 ],
 "metadata": {
  "kernelspec": {
   "display_name": "Python",
   "language": "python",
   "name": "conda-env-python-py"
  },
  "language_info": {
   "codemirror_mode": {
    "name": "ipython",
    "version": 3
   },
   "file_extension": ".py",
   "mimetype": "text/x-python",
   "name": "python",
   "nbconvert_exporter": "python",
   "pygments_lexer": "ipython3",
   "version": "3.7.12"
  }
 },
 "nbformat": 4,
 "nbformat_minor": 5
}
